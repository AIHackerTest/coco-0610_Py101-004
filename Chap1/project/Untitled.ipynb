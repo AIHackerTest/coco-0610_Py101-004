{
 "cells": [
  {
   "cell_type": "markdown",
   "metadata": {},
   "source": [
    "ch1 任务和思路 1w git:(master)  cat intro_1w_task.md\n",
    "本周任务：\n",
    "\n",
    "  完成一个天气查询系统，部署在命令行界面。功能要求如下：\n",
    "  —输入城市名，获取该城市的天气情况；\n",
    "  —输入指令，获取帮助信息；\n",
    "  —输入指令，获取历史查询信息；\n",
    "  —输入指令，退出程序。\n",
    "  1w git:(master)  python demo_1w_task.py\n",
    "  请输入指令或您要查询的城市名：北京\n",
    "  北京的天气状况为：晴\n",
    "  请输入指令或您要查询的城市名：help\n",
    "            输入城市名，查询该城市的天气；\n",
    "            输入help，获取文档帮助；\n",
    "            输入history，获取查询历史；\n",
    "            输入quit，退出天气查询系统。\n",
    "   请输入指令或您要查询的城市名：history\n",
    "   北京  晴\n",
    "   请输入指令或您要查询的城市名：quit\n",
    "   1w git:(master) \n",
    "   demo_1w_task.py intro_1w_task.md weather_info.txt (课程仓库中提取的文件)\n",
    "       文件包含两列： 城市,天气状况\n",
    "       cat weather_info.txt|wc -l(提取文件行数)\n",
    "       \n",
    "      初步实现思路：\n",
    "      1.查询A数据所对应的B数据\n",
    "         了解这个功能怎么实现\n",
    "      2.用input（）接收输入，使用if-else-判断指定输入，使用print（）打印文本\n",
    "      3.用input（）接收输入，让程序在得到指定输入时，退出运行\n",
    "          了解如何让程序退出运行\n",
    "      4.将所有被查询过的数据保存，在打印出来\n",
    "          了解如何保存用户每一次输入结果\n",
    "          \n",
    "          \n",
    "          \n",
    "    解决步骤：\n",
    "    1.从仓库中下载到天气数据，文件名称：weather_info.txt\n",
    "    2.怎样读取天气文件 open（'weather_info.txt'）\n",
    "   \n",
    "  \n",
    "  \n",
    "  "
   ]
  }
 ],
 "metadata": {
  "kernelspec": {
   "display_name": "Python 3",
   "language": "python",
   "name": "python3"
  },
  "language_info": {
   "codemirror_mode": {
    "name": "ipython",
    "version": 3
   },
   "file_extension": ".py",
   "mimetype": "text/x-python",
   "name": "python",
   "nbconvert_exporter": "python",
   "pygments_lexer": "ipython3",
   "version": "3.6.1"
  }
 },
 "nbformat": 4,
 "nbformat_minor": 2
}
